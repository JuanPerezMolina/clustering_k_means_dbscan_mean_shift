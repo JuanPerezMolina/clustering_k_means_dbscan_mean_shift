{
  "nbformat": 4,
  "nbformat_minor": 0,
  "metadata": {
    "colab": {
      "provenance": [],
      "collapsed_sections": [
        "Paozw82lsQ0z",
        "7IejuosVtHdZ",
        "STYvH2M9tYFw",
        "Q_5zKv68t_Kv",
        "dXPlj3lRFVnF",
        "CE5OGqXHSbKa",
        "SQtX9L1GSiTD",
        "Y-gC2OPmn1I6",
        "JBtUeQ2SxkUv"
      ]
    },
    "kernelspec": {
      "name": "python3",
      "display_name": "Python 3"
    },
    "language_info": {
      "name": "python"
    }
  },
  "cells": [
    {
      "cell_type": "markdown",
      "metadata": {
        "id": "view-in-github"
      },
      "source": [
        "<a href=\"https://colab.research.google.com/github/ahcamachod/1922-clustering-kmeans-dbscan-meanshift/blob/main/clustering_kmeans_dbscan_meanshift.ipynb\" target=\"_parent\"><img src=\"https://colab.research.google.com/assets/colab-badge.svg\" alt=\"Open In Colab\"/></a>"
      ]
    },
    {
      "cell_type": "markdown",
      "source": [
        "# **Clustering: KMeans, DBSCAN y Mean Shift**\n",
        "\n",
        "En este notebook estaremos ejecutando diversos métodos para la clusterización de datos.\n",
        "\n",
        "Utilizaremos una base de datos disponible en Kaggle llamada *Customer Personality Analysis*.\n",
        "\n",
        "El dataset utilizado se puede acceder en el siguiente link: https://www.kaggle.com/datasets/imakash3011/customer-personality-analysis"
      ],
      "metadata": {
        "id": "MA6Hyoxt5wY0"
      }
    },
    {
      "cell_type": "markdown",
      "source": [
        "### **Procedimientos:**\n",
        "1. Preparar el entorno de desarrollo en el cuaderno de Jupiter para Google Colab\n",
        "2. Importar bibliotecas de los métodos a utilizar\n",
        "3. Cargar el dataset en un DataFrame\n",
        "4. Consultar información sobre las variables del Dataframe\n",
        "5. Preprocesamiento:\n",
        "    - Eliminar variables innecesarias o que no permitan leer el dataframe\n",
        "    - Tratamiento de variables con valores faltantes\n",
        "    - Tratamiento de datos extremos y datos atípicos\n",
        "    - Normalizar los valores de todas las variables\n",
        "6. Ejemplo básico de entrenamiento de un modelo\n",
        "    - Definir los feactures\n",
        "    - Elegimos el modelo\n",
        "    - Probamos el modelo\n",
        "    - Probamos la exactitud del modelo\n",
        "    - Calculamos taza de aciertos\n",
        "7. Entrenamiento de modelo con muestras de pruebas proporcionales\n",
        "    - Estratificación proporcional de las muestras de entrada\n",
        "8. Estimador lineal para un dataset de cumplimento de entrega de proyectos\n",
        "9. Estimador no lineal\n",
        "10. Dummy classifiers y Árboles de decisión\n",
        "    - El clasificador Dummy\n",
        "    - Arbol de decisión con y sin datos estandarizados\n",
        "    - Diagrama de árbol de decisión y sus parámetros"
      ],
      "metadata": {
        "id": "TxMMcHfpsEey"
      }
    },
    {
      "cell_type": "markdown",
      "source": [
        "### **1. Preparar el entorno de desarrollo en el cuaderno de Jupiter para Google Colab**"
      ],
      "metadata": {
        "id": "Paozw82lsQ0z"
      }
    },
    {
      "cell_type": "code",
      "source": [
        "from google.colab import drive\n",
        "drive.mount('/content/drive')"
      ],
      "metadata": {
        "colab": {
          "base_uri": "https://localhost:8080/"
        },
        "id": "h7Nurwe7ttX-",
        "outputId": "0a77716c-74d1-4213-b6aa-d6466b0aabfb"
      },
      "execution_count": 1,
      "outputs": [
        {
          "output_type": "stream",
          "name": "stdout",
          "text": [
            "Mounted at /content/drive\n"
          ]
        }
      ]
    },
    {
      "cell_type": "code",
      "source": [
        "# pip install -r \"/ruta del archivo en Google drive/requirements.txt\""
      ],
      "metadata": {
        "id": "9dbCLFQxtpBA"
      },
      "execution_count": 2,
      "outputs": []
    },
    {
      "cell_type": "code",
      "source": [
        "# How can I suppresed Python warnings in Jupyter Notebook\n",
        "# Why not just set n_init=10 explicitly and retain the same value as the default and get rid of those warnings?\n",
        "import warnings\n",
        "warnings.filterwarnings('ignore')"
      ],
      "metadata": {
        "id": "oOMvK1vUtwaX"
      },
      "execution_count": 3,
      "outputs": []
    },
    {
      "cell_type": "markdown",
      "source": [
        "### **2. Importar bibliotecas de los métodos a utilizar**"
      ],
      "metadata": {
        "id": "7IejuosVtHdZ"
      }
    },
    {
      "cell_type": "code",
      "source": [
        "# Las versiones de las bibliotecas que usaremos son las siguientes:\n",
        "import matplotlib\n",
        "import numpy as np\n",
        "import pandas as pd\n",
        "import seaborn as sns\n",
        "import sklearn\n",
        "from sklearn.svm import LinearSVC\n",
        "from sklearn.metrics import accuracy_score\n",
        "from sklearn.model_selection import train_test_split\n",
        "\n",
        "# pip: pip install -U imbalanced-learn\n",
        "from imblearn.over_sampling import SMOTE\n",
        "\n",
        "print(f'matplotlib --> {matplotlib.__version__}')\n",
        "print(f'pandas --> {pd.__version__}')\n",
        "print(f'numpy --> {np.__version__}')\n",
        "print(f'seaborn --> {sns.__version__}')\n",
        "print(f'sklearn --> {sklearn.__version__}')"
      ],
      "metadata": {
        "colab": {
          "base_uri": "https://localhost:8080/"
        },
        "id": "oH1o3bkEt0rZ",
        "outputId": "9e30893c-da35-40d5-9416-8edc0232eac6"
      },
      "execution_count": 31,
      "outputs": [
        {
          "output_type": "stream",
          "name": "stdout",
          "text": [
            "matplotlib --> 3.7.1\n",
            "pandas --> 1.5.3\n",
            "numpy --> 1.23.5\n",
            "seaborn --> 0.12.2\n",
            "sklearn --> 1.2.2\n"
          ]
        }
      ]
    },
    {
      "cell_type": "markdown",
      "source": [
        "### **3. Cargar el dataset en un dataframe**"
      ],
      "metadata": {
        "id": "STYvH2M9tYFw"
      }
    },
    {
      "cell_type": "code",
      "source": [
        "ruta= '/content/drive/MyDrive/Colab Notebooks/231120-1_clustering_k_means_dbscan_mean_shift/datasets/marketing_campaign.csv'\n",
        "datos_clientes_marketing_df = pd.read_csv(ruta, sep = \"\\t\")\n",
        "# Obervación: el separador de columnas es \\t"
      ],
      "metadata": {
        "id": "BfLPwfhYtbn2"
      },
      "execution_count": 5,
      "outputs": []
    },
    {
      "cell_type": "markdown",
      "source": [
        "### **4. Consultar información sobre las variables del Dataframe**"
      ],
      "metadata": {
        "id": "Q_5zKv68t_Kv"
      }
    },
    {
      "cell_type": "code",
      "source": [
        "# datos_clientes_marketing_df.head()"
      ],
      "metadata": {
        "id": "ETQ9TS3XuAUA"
      },
      "execution_count": null,
      "outputs": []
    },
    {
      "cell_type": "code",
      "source": [
        "datos_clientes_marketing_df.shape"
      ],
      "metadata": {
        "colab": {
          "base_uri": "https://localhost:8080/"
        },
        "id": "LiSwCDt9uNY1",
        "outputId": "bf6205b5-dc2b-410d-fa2a-8574884732f2"
      },
      "execution_count": 7,
      "outputs": [
        {
          "output_type": "execute_result",
          "data": {
            "text/plain": [
              "(2240, 29)"
            ]
          },
          "metadata": {},
          "execution_count": 7
        }
      ]
    },
    {
      "cell_type": "code",
      "source": [
        "datos_clientes_marketing_df.info()"
      ],
      "metadata": {
        "colab": {
          "base_uri": "https://localhost:8080/"
        },
        "id": "HLqh0efVuPuo",
        "outputId": "495e90cd-efc0-4f00-84a9-92620c9642f4"
      },
      "execution_count": 8,
      "outputs": [
        {
          "output_type": "stream",
          "name": "stdout",
          "text": [
            "<class 'pandas.core.frame.DataFrame'>\n",
            "RangeIndex: 2240 entries, 0 to 2239\n",
            "Data columns (total 29 columns):\n",
            " #   Column               Non-Null Count  Dtype  \n",
            "---  ------               --------------  -----  \n",
            " 0   ID                   2240 non-null   int64  \n",
            " 1   Year_Birth           2240 non-null   int64  \n",
            " 2   Education            2240 non-null   object \n",
            " 3   Marital_Status       2240 non-null   object \n",
            " 4   Income               2216 non-null   float64\n",
            " 5   Kidhome              2240 non-null   int64  \n",
            " 6   Teenhome             2240 non-null   int64  \n",
            " 7   Dt_Customer          2240 non-null   object \n",
            " 8   Recency              2240 non-null   int64  \n",
            " 9   MntWines             2240 non-null   int64  \n",
            " 10  MntFruits            2240 non-null   int64  \n",
            " 11  MntMeatProducts      2240 non-null   int64  \n",
            " 12  MntFishProducts      2240 non-null   int64  \n",
            " 13  MntSweetProducts     2240 non-null   int64  \n",
            " 14  MntGoldProds         2240 non-null   int64  \n",
            " 15  NumDealsPurchases    2240 non-null   int64  \n",
            " 16  NumWebPurchases      2240 non-null   int64  \n",
            " 17  NumCatalogPurchases  2240 non-null   int64  \n",
            " 18  NumStorePurchases    2240 non-null   int64  \n",
            " 19  NumWebVisitsMonth    2240 non-null   int64  \n",
            " 20  AcceptedCmp3         2240 non-null   int64  \n",
            " 21  AcceptedCmp4         2240 non-null   int64  \n",
            " 22  AcceptedCmp5         2240 non-null   int64  \n",
            " 23  AcceptedCmp1         2240 non-null   int64  \n",
            " 24  AcceptedCmp2         2240 non-null   int64  \n",
            " 25  Complain             2240 non-null   int64  \n",
            " 26  Z_CostContact        2240 non-null   int64  \n",
            " 27  Z_Revenue            2240 non-null   int64  \n",
            " 28  Response             2240 non-null   int64  \n",
            "dtypes: float64(1), int64(25), object(3)\n",
            "memory usage: 507.6+ KB\n"
          ]
        }
      ]
    },
    {
      "cell_type": "markdown",
      "source": [
        "## Aula 1"
      ],
      "metadata": {
        "id": "dXPlj3lRFVnF"
      }
    },
    {
      "cell_type": "markdown",
      "source": [
        "### 1.2 Importando los datos"
      ],
      "metadata": {
        "id": "CE5OGqXHSbKa"
      }
    },
    {
      "cell_type": "code",
      "source": [],
      "metadata": {
        "id": "1Ox4dI6F1EEP"
      },
      "execution_count": null,
      "outputs": []
    },
    {
      "cell_type": "code",
      "source": [],
      "metadata": {
        "id": "ee8f29nu1EMo"
      },
      "execution_count": null,
      "outputs": []
    },
    {
      "cell_type": "markdown",
      "source": [
        "### 1.3 Analizando y transformando los datos"
      ],
      "metadata": {
        "id": "SQtX9L1GSiTD"
      }
    },
    {
      "cell_type": "code",
      "source": [
        "columnas = {'Year_Birth':'Ano_Nacimiento', 'Education':'Escolaridad', 'Marital_Status':'Estado_Civil',\n",
        "            'Income':'Renta_Anual', 'Kidhome':'CtNinos','Teenhome':'CtAdolescentes', 'Dt_Customer':'Primera_Compra',\n",
        "            'Recency':'Recencia', 'MntWines':'GastoVinos', 'MntFruits':'GastoFrutas','MntMeatProducts':'GastoCarnes',\n",
        "            'MntFishProducts':'GastoPescado', 'MntSweetProducts':'GastoGolosinas','MntGoldProds':'GastoOro',\n",
        "            'NumDealsPurchases':'NumComprasConDescuento', 'NumWebPurchases':'NumComprasOnline',\n",
        "            'NumCatalogPurchases':'NumComprasCatalogo', 'NumStorePurchases':'NumComprasTienda',\n",
        "            'NumWebVisitsMonth':'NumVisitasOnlineMes','Z_CostContact':'CostoContacto','Z_Revenue':'Ingresos','AcceptedCmp3':'AceptaCmp3', 'AcceptedCmp4':'AceptaCmp4',\n",
        "            'AcceptedCmp5':'AceptaCmp5', 'AcceptedCmp1':'AceptaCmp1', 'AcceptedCmp2':'AceptaCmp2',\n",
        "            'Complain':'Quejas','Response':'AceptaCmpActual'}"
      ],
      "metadata": {
        "id": "qt4nE4O51IBC"
      },
      "execution_count": 9,
      "outputs": []
    },
    {
      "cell_type": "markdown",
      "source": [
        "**Clientes**\n",
        "\n",
        "*ID*: Identificación única del cliente.\n",
        "\n",
        "*Ano_Nacimiento*: Año de nacimiento del cliente.\n",
        "\n",
        "*Escolaridad*: Nivel educativo del cliente.\n",
        "\n",
        "*Estado_Civil*: Estado civil del cliente.\n",
        "\n",
        "*Renta_Anual*: Renta anual del cliente.\n",
        "\n",
        "*CtNinos*: Número de niños en el hogar.\n",
        "\n",
        "*CtAdolescentes*: Número de adolescentes en el hogar.\n",
        "\n",
        "*Primera_Compra*: Fecha en que compró por primera vez\n",
        "\n",
        "*Recencia*: Hace cuántos días realizó la última compra.\n",
        "\n",
        "*Quejas*: 1 si el cliente se quejó en los últimos 2 años, 0 en otro caso.\n",
        "\n",
        "**Productos**\n",
        "\n",
        "*GastoVinos*: Gasto en vinos en los últimos 2 años.\n",
        "\n",
        "*GastoFrutas*: Gasto en frutas en los últimos 2 años.\n",
        "\n",
        "*GastoCarnes*: Gasto en carne en los últimos 2 años.\n",
        "\n",
        "*GastoPescado*: Gasto en pescado en los últimos 2 años.\n",
        "\n",
        "*GastoGolosinas*: Gasto en golosinas en los últimos 2 años.\n",
        "\n",
        "*GastoOro*: Gasto en productos de oro en los últimos 2 años.\n",
        "\n",
        "**Promociones**\n",
        "\n",
        "*NumComprasConDescuento*: Número de compras con descuento.\n",
        "\n",
        "*AceptaCmp1*: 1 si el cliente aceptó la oferta en la primera campaña, 0 en otro caso.\n",
        "\n",
        "*AceptaCmp2*: 1 si el cliente aceptó la oferta en la segunda campaña, 0 en otro caso.\n",
        "\n",
        "*AceptaCmp3*: 1 si el cliente aceptó la oferta en la tercera campaña, 0 en otro caso.\n",
        "\n",
        "*AceptaCmp4*: 1 si el cliente aceptó la oferta en la cuarta campaña, 0 en otro caso.\n",
        "\n",
        "*AceptaCmp5*: 1 si el cliente aceptó la oferta en la quinta campaña, 0 en otro caso.\n",
        "\n",
        "*AceptaCmpActual*: 1 si el cliente aceptó la oferta en la última campaña, 0 en otro caso.\n",
        "\n",
        "**Compras**\n",
        "\n",
        "*NumComprasOnline*: Número de compras realizadas en la página web.\n",
        "\n",
        "*NumComprasCatalogo*: Número de compras realizadas a través del catálogo.\n",
        "\n",
        "*NumComprasTienda*: Número de compras realizadas en la tienda.\n",
        "\n",
        "*NumVisitasOnlineMes*: Número de visitas realizadas a la página web."
      ],
      "metadata": {
        "id": "lZYQjqULG5ko"
      }
    },
    {
      "cell_type": "code",
      "source": [
        "datos_clientes_marketing_df = datos_clientes_marketing_df.rename(columns = columnas)"
      ],
      "metadata": {
        "id": "KBSnmC8c1ID4"
      },
      "execution_count": 10,
      "outputs": []
    },
    {
      "cell_type": "code",
      "source": [
        "datos_clientes_marketing_df.info()"
      ],
      "metadata": {
        "colab": {
          "base_uri": "https://localhost:8080/"
        },
        "id": "qh1bvTY2QoVe",
        "outputId": "37ac86f3-dd73-4482-ab27-2f31b83bba4a"
      },
      "execution_count": 21,
      "outputs": [
        {
          "output_type": "stream",
          "name": "stdout",
          "text": [
            "<class 'pandas.core.frame.DataFrame'>\n",
            "Int64Index: 2216 entries, 0 to 2239\n",
            "Data columns (total 29 columns):\n",
            " #   Column                  Non-Null Count  Dtype  \n",
            "---  ------                  --------------  -----  \n",
            " 0   ID                      2216 non-null   int64  \n",
            " 1   Ano_Nacimiento          2216 non-null   int64  \n",
            " 2   Escolaridad             2216 non-null   object \n",
            " 3   Estado_Civil            2216 non-null   object \n",
            " 4   Renta_Anual             2216 non-null   float64\n",
            " 5   CtNinos                 2216 non-null   int64  \n",
            " 6   CtAdolescentes          2216 non-null   int64  \n",
            " 7   Primera_Compra          2216 non-null   object \n",
            " 8   Recencia                2216 non-null   int64  \n",
            " 9   GastoVinos              2216 non-null   int64  \n",
            " 10  GastoFrutas             2216 non-null   int64  \n",
            " 11  GastoCarnes             2216 non-null   int64  \n",
            " 12  GastoPescado            2216 non-null   int64  \n",
            " 13  GastoGolosinas          2216 non-null   int64  \n",
            " 14  GastoOro                2216 non-null   int64  \n",
            " 15  NumComprasConDescuento  2216 non-null   int64  \n",
            " 16  NumComprasOnline        2216 non-null   int64  \n",
            " 17  NumComprasCatalogo      2216 non-null   int64  \n",
            " 18  NumComprasTienda        2216 non-null   int64  \n",
            " 19  NumVisitasOnlineMes     2216 non-null   int64  \n",
            " 20  AceptaCmp3              2216 non-null   int64  \n",
            " 21  AceptaCmp4              2216 non-null   int64  \n",
            " 22  AceptaCmp5              2216 non-null   int64  \n",
            " 23  AceptaCmp1              2216 non-null   int64  \n",
            " 24  AceptaCmp2              2216 non-null   int64  \n",
            " 25  Quejas                  2216 non-null   int64  \n",
            " 26  CostoContacto           2216 non-null   int64  \n",
            " 27  Ingresos                2216 non-null   int64  \n",
            " 28  AceptaCmpActual         2216 non-null   int64  \n",
            "dtypes: float64(1), int64(25), object(3)\n",
            "memory usage: 519.4+ KB\n"
          ]
        }
      ]
    },
    {
      "cell_type": "markdown",
      "source": [
        "**Valores nulos:**"
      ],
      "metadata": {
        "id": "bBy6OXOsSHUr"
      }
    },
    {
      "cell_type": "code",
      "source": [
        "datos_clientes_marketing_df.isna().sum()"
      ],
      "metadata": {
        "id": "94_p6dhOSJ53"
      },
      "execution_count": null,
      "outputs": []
    },
    {
      "cell_type": "code",
      "source": [
        "nulos= 24/2240\n",
        "print(f'porcentaje de registros con valores nulos es de {np.round(nulos*100,2)} %')"
      ],
      "metadata": {
        "colab": {
          "base_uri": "https://localhost:8080/"
        },
        "id": "Mj1dCfSCS1bs",
        "outputId": "e5ca6824-9e9b-49d4-b3b1-9a817c5221f9"
      },
      "execution_count": 11,
      "outputs": [
        {
          "output_type": "stream",
          "name": "stdout",
          "text": [
            "porcentaje de registros con valores nulos es de 1.07 %\n"
          ]
        }
      ]
    },
    {
      "cell_type": "markdown",
      "source": [
        "Como las filas con datos nulos es de aprox 1% podemos simplemente eliminarlas pero generalmente el tratamiento de datos nulos es otro proceso de análisis y trasnformaciones."
      ],
      "metadata": {
        "id": "-iQ6mYP4oIGK"
      }
    },
    {
      "cell_type": "code",
      "source": [
        "datos_clientes_marketing_df.dropna(axis = 0, inplace = True)"
      ],
      "metadata": {
        "id": "xmL9WOfsnlP1"
      },
      "execution_count": 11,
      "outputs": []
    },
    {
      "cell_type": "code",
      "source": [
        "# datos_clientes_marketing_df.isna().sum()"
      ],
      "metadata": {
        "id": "Vqq5XCCwoZbs"
      },
      "execution_count": null,
      "outputs": []
    },
    {
      "cell_type": "markdown",
      "source": [
        "**Correlación entre variables:**"
      ],
      "metadata": {
        "id": "kBpNCxvmSc7B"
      }
    },
    {
      "cell_type": "code",
      "source": [
        "# Consultamos la matriz de correlación de las variables para observar la relación entre pares de variables\n",
        "matriz_correlaciones = datos_clientes_marketing_df.corr()\n",
        "# matriz_correlaciones"
      ],
      "metadata": {
        "id": "4xB3VSnx1OL7"
      },
      "execution_count": null,
      "outputs": []
    },
    {
      "cell_type": "markdown",
      "source": [
        "Con la matriz de correlación tenemos una idea de la correlación entre pares de variables.\n",
        "- Valore sercanos a uno (1) indican correlación directamente proporcional entre el par (cuando una de las variables crece la otra tambien crece).\n",
        "- Valores sercanos a menos uno (-1) indican correlación inversamente proporcional entre el par (cuando una crece la otra variable decrece)\n",
        "- Valores sercanos a cero (0) indican que no hay correlación entre las dos variables."
      ],
      "metadata": {
        "id": "wYBeMbTLtctU"
      }
    },
    {
      "cell_type": "code",
      "source": [
        "# Como la tabla anterior no es sencilla de observar por la gran cantidad de variables usamos un diagrama  que simplifique la observación\n",
        "import seaborn as sns\n",
        "import matplotlib.pyplot as plt\n",
        "plt.figure(figsize = (20,12))\n",
        "grafico_correlacion = sns.heatmap(matriz_correlaciones, cmap = 'Blues', annot = True)"
      ],
      "metadata": {
        "id": "GH25NULp1OOV"
      },
      "execution_count": null,
      "outputs": []
    },
    {
      "cell_type": "code",
      "source": [
        "\n",
        "datos_clientes_marketing_df.CostoContacto.value_counts()"
      ],
      "metadata": {
        "colab": {
          "base_uri": "https://localhost:8080/"
        },
        "id": "GOtrrYbFFl7i",
        "outputId": "3a224b34-efa1-4144-a3d6-5aad7140e809"
      },
      "execution_count": 14,
      "outputs": [
        {
          "output_type": "execute_result",
          "data": {
            "text/plain": [
              "3    2216\n",
              "Name: CostoContacto, dtype: int64"
            ]
          },
          "metadata": {},
          "execution_count": 14
        }
      ]
    },
    {
      "cell_type": "code",
      "source": [
        "datos_clientes_marketing_df.Ingresos.value_counts()"
      ],
      "metadata": {
        "colab": {
          "base_uri": "https://localhost:8080/"
        },
        "id": "vzohqsW0F1FL",
        "outputId": "bf4e5ca9-19e3-4b2d-9cc8-b369bcd9b089"
      },
      "execution_count": null,
      "outputs": [
        {
          "output_type": "execute_result",
          "data": {
            "text/plain": [
              "11    2216\n",
              "Name: Ingresos, dtype: int64"
            ]
          },
          "metadata": {},
          "execution_count": 66
        }
      ]
    },
    {
      "cell_type": "markdown",
      "source": [
        "**CostoContacto** e **Ingresos** tienen valores contantes por eso aparecen en blanco, por lo tanto son candidatos a ser eliminadas por no aportar niguna información útil. Tampoco la variable idCliente aporta información útil así que es otra variable candidata a ser eliminada del dataframe."
      ],
      "metadata": {
        "id": "KT4eJu1XF12W"
      }
    },
    {
      "cell_type": "markdown",
      "source": [
        "### 1.4 Selección de atributos"
      ],
      "metadata": {
        "id": "Y-gC2OPmn1I6"
      }
    },
    {
      "cell_type": "markdown",
      "source": [],
      "metadata": {
        "id": "ZPyg5M-FSoqI"
      }
    },
    {
      "cell_type": "code",
      "source": [
        "X = datos_clientes_marketing_df.drop(columns = ['ID','CostoContacto','Ingresos', 'Primera_Compra', 'Quejas', 'Escolaridad', 'Estado_Civil'], axis =1)\n",
        "# X.head()"
      ],
      "metadata": {
        "id": "pssyFQ-nSpG2"
      },
      "execution_count": 36,
      "outputs": []
    },
    {
      "cell_type": "code",
      "source": [
        "# La variable año de nacimiento no es tan útil como por ejemplo la edad del cliente, por eso realizamos la siguiente transformación\n",
        "from datetime import datetime\n",
        "anno_actual = datetime.today().year\n",
        "X['Edad'] = anno_actual - datos_clientes_marketing_df.Ano_Nacimiento\n",
        "X.drop(columns = ['Ano_Nacimiento'], axis = 1, inplace = True)\n",
        "# X.head()"
      ],
      "metadata": {
        "id": "Zhpcv-BpWxET"
      },
      "execution_count": 37,
      "outputs": []
    },
    {
      "cell_type": "code",
      "source": [],
      "metadata": {
        "id": "ZxtX6oYVriig"
      },
      "execution_count": null,
      "outputs": []
    },
    {
      "cell_type": "code",
      "source": [
        "sns.displot(datos_clientes_marketing_df.Renta_Anual)\n",
        "plt.xlim(0, 150000) # Ajustamos el limite horizontal del grafico para una mejor presentación"
      ],
      "metadata": {
        "colab": {
          "base_uri": "https://localhost:8080/",
          "height": 523
        },
        "id": "Zf7HGbgCYDrD",
        "outputId": "48ca6933-9fa8-4b53-f69b-5e50222c527b"
      },
      "execution_count": 17,
      "outputs": [
        {
          "output_type": "execute_result",
          "data": {
            "text/plain": [
              "(0.0, 150000.0)"
            ]
          },
          "metadata": {},
          "execution_count": 17
        },
        {
          "output_type": "display_data",
          "data": {
            "text/plain": [
              "<Figure size 500x500 with 1 Axes>"
            ],
            "image/png": "[encoded data removed]"
          },
          "metadata": {}
        }
      ]
    },
    {
      "cell_type": "markdown",
      "source": [
        "Observamos que la variable Ingresos posee una distribución normal, y podemos seguir analizando mas variables pero el objetivo de este proyecto es solo enfocarnos en crear closters y no se requiere analizar y trasnformar todas las varibles involucradas."
      ],
      "metadata": {
        "id": "nF24bQXMZP1D"
      }
    },
    {
      "cell_type": "markdown",
      "source": [
        "### 1.5 Normalización"
      ],
      "metadata": {
        "id": "JBtUeQ2SxkUv"
      }
    },
    {
      "cell_type": "markdown",
      "source": [
        "La normalización es la transformación de los valores de variables cuantitativas a valores entre 0 y 1, con el fin de que rangos de valores distintos no alteren los cálculos. Vamos a normalizar primero paso a paso para entender el proceso y luego usando librerias"
      ],
      "metadata": {
        "id": "ehGRiFeRZwbM"
      }
    },
    {
      "cell_type": "code",
      "source": [
        "# Normalizacion sin usar librerias\n",
        "atributos = X.columns\n",
        "X_normalizado = X.copy()\n",
        "for atributo in atributos:\n",
        "  X_normalizado[atributo] = (X[atributo] - min(X[atributo]))/(max(X[atributo]) - min(X[atributo]))\n",
        "X_normalizado.head()"
      ],
      "metadata": {
        "id": "qOcVvCFU1UoF",
        "colab": {
          "base_uri": "https://localhost:8080/",
          "height": 256
        },
        "outputId": "8a6205f3-a516-4c26-b222-398fdb693e64"
      },
      "execution_count": 34,
      "outputs": [
        {
          "output_type": "execute_result",
          "data": {
            "text/plain": [
              "   Renta_Anual  CtNinos  CtAdolescentes  Recencia  GastoVinos  GastoFrutas  \\\n",
              "0     0.084832      0.0             0.0  0.585859    0.425318     0.442211   \n",
              "1     0.067095      0.5             0.5  0.383838    0.007368     0.005025   \n",
              "2     0.105097      0.0             0.0  0.262626    0.285332     0.246231   \n",
              "3     0.037471      0.5             0.0  0.262626    0.007368     0.020101   \n",
              "4     0.085065      0.5             0.0  0.949495    0.115874     0.216080   \n",
              "\n",
              "   GastoCarnes  GastoPescado  GastoGolosinas  GastoOro  ...  \\\n",
              "0     0.316522      0.664093        0.335878  0.274143  ...   \n",
              "1     0.003478      0.007722        0.003817  0.018692  ...   \n",
              "2     0.073623      0.428571        0.080153  0.130841  ...   \n",
              "3     0.011594      0.038610        0.011450  0.015576  ...   \n",
              "4     0.068406      0.177606        0.103053  0.046729  ...   \n",
              "\n",
              "   NumComprasCatalogo  NumComprasTienda  NumVisitasOnlineMes  AceptaCmp3  \\\n",
              "0            0.357143          0.307692                 0.35         0.0   \n",
              "1            0.035714          0.153846                 0.25         0.0   \n",
              "2            0.071429          0.769231                 0.20         0.0   \n",
              "3            0.000000          0.307692                 0.30         0.0   \n",
              "4            0.107143          0.461538                 0.25         0.0   \n",
              "\n",
              "   AceptaCmp4  AceptaCmp5  AceptaCmp1  AceptaCmp2  AceptaCmpActual      Edad  \n",
              "0         0.0         0.0         0.0         0.0              1.0  0.378641  \n",
              "1         0.0         0.0         0.0         0.0              0.0  0.407767  \n",
              "2         0.0         0.0         0.0         0.0              0.0  0.300971  \n",
              "3         0.0         0.0         0.0         0.0              0.0  0.116505  \n",
              "4         0.0         0.0         0.0         0.0              0.0  0.145631  \n",
              "\n",
              "[5 rows x 22 columns]"
            ],
            "text/html": [
              "\n",
              "  <div id=\"df-3b092230-4ea1-4c1f-8b51-bf541d3bb365\" class=\"colab-df-container\">\n",
              "    <div>\n",
              "<style scoped>\n",
              "    .dataframe tbody tr th:only-of-type {\n",
              "        vertical-align: middle;\n",
              "    }\n",
              "\n",
              "    .dataframe tbody tr th {\n",
              "        vertical-align: top;\n",
              "    }\n",
              "\n",
              "    .dataframe thead th {\n",
              "        text-align: right;\n",
              "    }\n",
              "</style>\n",
              "<table border=\"1\" class=\"dataframe\">\n",
              "  <thead>\n",
              "    <tr style=\"text-align: right;\">\n",
              "      <th></th>\n",
              "      <th>Renta_Anual</th>\n",
              "      <th>CtNinos</th>\n",
              "      <th>CtAdolescentes</th>\n",
              "      <th>Recencia</th>\n",
              "      <th>GastoVinos</th>\n",
              "      <th>GastoFrutas</th>\n",
              "      <th>GastoCarnes</th>\n",
              "      <th>GastoPescado</th>\n",
              "      <th>GastoGolosinas</th>\n",
              "      <th>GastoOro</th>\n",
              "      <th>...</th>\n",
              "      <th>NumComprasCatalogo</th>\n",
              "      <th>NumComprasTienda</th>\n",
              "      <th>NumVisitasOnlineMes</th>\n",
              "      <th>AceptaCmp3</th>\n",
              "      <th>AceptaCmp4</th>\n",
              "      <th>AceptaCmp5</th>\n",
              "      <th>AceptaCmp1</th>\n",
              "      <th>AceptaCmp2</th>\n",
              "      <th>AceptaCmpActual</th>\n",
              "      <th>Edad</th>\n",
              "    </tr>\n",
              "  </thead>\n",
              "  <tbody>\n",
              "    <tr>\n",
              "      <th>0</th>\n",
              "      <td>0.084832</td>\n",
              "      <td>0.0</td>\n",
              "      <td>0.0</td>\n",
              "      <td>0.585859</td>\n",
              "      <td>0.425318</td>\n",
              "      <td>0.442211</td>\n",
              "      <td>0.316522</td>\n",
              "      <td>0.664093</td>\n",
              "      <td>0.335878</td>\n",
              "      <td>0.274143</td>\n",
              "      <td>...</td>\n",
              "      <td>0.357143</td>\n",
              "      <td>0.307692</td>\n",
              "      <td>0.35</td>\n",
              "      <td>0.0</td>\n",
              "      <td>0.0</td>\n",
              "      <td>0.0</td>\n",
              "      <td>0.0</td>\n",
              "      <td>0.0</td>\n",
              "      <td>1.0</td>\n",
              "      <td>0.378641</td>\n",
              "    </tr>\n",
              "    <tr>\n",
              "      <th>1</th>\n",
              "      <td>0.067095</td>\n",
              "      <td>0.5</td>\n",
              "      <td>0.5</td>\n",
              "      <td>0.383838</td>\n",
              "      <td>0.007368</td>\n",
              "      <td>0.005025</td>\n",
              "      <td>0.003478</td>\n",
              "      <td>0.007722</td>\n",
              "      <td>0.003817</td>\n",
              "      <td>0.018692</td>\n",
              "      <td>...</td>\n",
              "      <td>0.035714</td>\n",
              "      <td>0.153846</td>\n",
              "      <td>0.25</td>\n",
              "      <td>0.0</td>\n",
              "      <td>0.0</td>\n",
              "      <td>0.0</td>\n",
              "      <td>0.0</td>\n",
              "      <td>0.0</td>\n",
              "      <td>0.0</td>\n",
              "      <td>0.407767</td>\n",
              "    </tr>\n",
              "    <tr>\n",
              "      <th>2</th>\n",
              "      <td>0.105097</td>\n",
              "      <td>0.0</td>\n",
              "      <td>0.0</td>\n",
              "      <td>0.262626</td>\n",
              "      <td>0.285332</td>\n",
              "      <td>0.246231</td>\n",
              "      <td>0.073623</td>\n",
              "      <td>0.428571</td>\n",
              "      <td>0.080153</td>\n",
              "      <td>0.130841</td>\n",
              "      <td>...</td>\n",
              "      <td>0.071429</td>\n",
              "      <td>0.769231</td>\n",
              "      <td>0.20</td>\n",
              "      <td>0.0</td>\n",
              "      <td>0.0</td>\n",
              "      <td>0.0</td>\n",
              "      <td>0.0</td>\n",
              "      <td>0.0</td>\n",
              "      <td>0.0</td>\n",
              "      <td>0.300971</td>\n",
              "    </tr>\n",
              "    <tr>\n",
              "      <th>3</th>\n",
              "      <td>0.037471</td>\n",
              "      <td>0.5</td>\n",
              "      <td>0.0</td>\n",
              "      <td>0.262626</td>\n",
              "      <td>0.007368</td>\n",
              "      <td>0.020101</td>\n",
              "      <td>0.011594</td>\n",
              "      <td>0.038610</td>\n",
              "      <td>0.011450</td>\n",
              "      <td>0.015576</td>\n",
              "      <td>...</td>\n",
              "      <td>0.000000</td>\n",
              "      <td>0.307692</td>\n",
              "      <td>0.30</td>\n",
              "      <td>0.0</td>\n",
              "      <td>0.0</td>\n",
              "      <td>0.0</td>\n",
              "      <td>0.0</td>\n",
              "      <td>0.0</td>\n",
              "      <td>0.0</td>\n",
              "      <td>0.116505</td>\n",
              "    </tr>\n",
              "    <tr>\n",
              "      <th>4</th>\n",
              "      <td>0.085065</td>\n",
              "      <td>0.5</td>\n",
              "      <td>0.0</td>\n",
              "      <td>0.949495</td>\n",
              "      <td>0.115874</td>\n",
              "      <td>0.216080</td>\n",
              "      <td>0.068406</td>\n",
              "      <td>0.177606</td>\n",
              "      <td>0.103053</td>\n",
              "      <td>0.046729</td>\n",
              "      <td>...</td>\n",
              "      <td>0.107143</td>\n",
              "      <td>0.461538</td>\n",
              "      <td>0.25</td>\n",
              "      <td>0.0</td>\n",
              "      <td>0.0</td>\n",
              "      <td>0.0</td>\n",
              "      <td>0.0</td>\n",
              "      <td>0.0</td>\n",
              "      <td>0.0</td>\n",
              "      <td>0.145631</td>\n",
              "    </tr>\n",
              "  </tbody>\n",
              "</table>\n",
              "<p>5 rows × 22 columns</p>\n",
              "</div>\n",
              "    <div class=\"colab-df-buttons\">\n",
              "\n",
              "  <div class=\"colab-df-container\">\n",
              "    <button class=\"colab-df-convert\" onclick=\"convertToInteractive('df-3b092230-4ea1-4c1f-8b51-bf541d3bb365')\"\n",
              "            title=\"Convert this dataframe to an interactive table.\"\n",
              "            style=\"display:none;\">\n",
              "\n",
              "  <svg xmlns=\"http://www.w3.org/2000/svg\" height=\"24px\" viewBox=\"0 -960 960 960\">\n",
              "    <path d=\"M120-120v-720h720v720H120Zm60-500h600v-160H180v160Zm220 220h160v-160H400v160Zm0 220h160v-160H400v160ZM180-400h160v-160H180v160Zm440 0h160v-160H620v160ZM180-180h160v-160H180v160Zm440 0h160v-160H620v160Z\"/>\n",
              "  </svg>\n",
              "    </button>\n",
              "\n",
              "  <style>\n",
              "    .colab-df-container {\n",
              "      display:flex;\n",
              "      gap: 12px;\n",
              "    }\n",
              "\n",
              "    .colab-df-convert {\n",
              "      background-color: #E8F0FE;\n",
              "      border: none;\n",
              "      border-radius: 50%;\n",
              "      cursor: pointer;\n",
              "      display: none;\n",
              "      fill: #1967D2;\n",
              "      height: 32px;\n",
              "      padding: 0 0 0 0;\n",
              "      width: 32px;\n",
              "    }\n",
              "\n",
              "    .colab-df-convert:hover {\n",
              "      background-color: #E2EBFA;\n",
              "      box-shadow: 0px 1px 2px rgba(60, 64, 67, 0.3), 0px 1px 3px 1px rgba(60, 64, 67, 0.15);\n",
              "      fill: #174EA6;\n",
              "    }\n",
              "\n",
              "    .colab-df-buttons div {\n",
              "      margin-bottom: 4px;\n",
              "    }\n",
              "\n",
              "    [theme=dark] .colab-df-convert {\n",
              "      background-color: #3B4455;\n",
              "      fill: #D2E3FC;\n",
              "    }\n",
              "\n",
              "    [theme=dark] .colab-df-convert:hover {\n",
              "      background-color: #434B5C;\n",
              "      box-shadow: 0px 1px 3px 1px rgba(0, 0, 0, 0.15);\n",
              "      filter: drop-shadow(0px 1px 2px rgba(0, 0, 0, 0.3));\n",
              "      fill: #FFFFFF;\n",
              "    }\n",
              "  </style>\n",
              "\n",
              "    <script>\n",
              "      const buttonEl =\n",
              "        document.querySelector('#df-3b092230-4ea1-4c1f-8b51-bf541d3bb365 button.colab-df-convert');\n",
              "      buttonEl.style.display =\n",
              "        google.colab.kernel.accessAllowed ? 'block' : 'none';\n",
              "\n",
              "      async function convertToInteractive(key) {\n",
              "        const element = document.querySelector('#df-3b092230-4ea1-4c1f-8b51-bf541d3bb365');\n",
              "        const dataTable =\n",
              "          await google.colab.kernel.invokeFunction('convertToInteractive',\n",
              "                                                    [key], {});\n",
              "        if (!dataTable) return;\n",
              "\n",
              "        const docLinkHtml = 'Like what you see? Visit the ' +\n",
              "          '<a target=\"_blank\" href=https://colab.research.google.com/notebooks/data_table.ipynb>data table notebook</a>'\n",
              "          + ' to learn more about interactive tables.';\n",
              "        element.innerHTML = '';\n",
              "        dataTable['output_type'] = 'display_data';\n",
              "        await google.colab.output.renderOutput(dataTable, element);\n",
              "        const docLink = document.createElement('div');\n",
              "        docLink.innerHTML = docLinkHtml;\n",
              "        element.appendChild(docLink);\n",
              "      }\n",
              "    </script>\n",
              "  </div>\n",
              "\n",
              "\n",
              "<div id=\"df-01b769c3-1ebc-4e0c-9b2a-84d25437d366\">\n",
              "  <button class=\"colab-df-quickchart\" onclick=\"quickchart('df-01b769c3-1ebc-4e0c-9b2a-84d25437d366')\"\n",
              "            title=\"Suggest charts\"\n",
              "            style=\"display:none;\">\n",
              "\n",
              "<svg xmlns=\"http://www.w3.org/2000/svg\" height=\"24px\"viewBox=\"0 0 24 24\"\n",
              "     width=\"24px\">\n",
              "    <g>\n",
              "        <path d=\"M19 3H5c-1.1 0-2 .9-2 2v14c0 1.1.9 2 2 2h14c1.1 0 2-.9 2-2V5c0-1.1-.9-2-2-2zM9 17H7v-7h2v7zm4 0h-2V7h2v10zm4 0h-2v-4h2v4z\"/>\n",
              "    </g>\n",
              "</svg>\n",
              "  </button>\n",
              "\n",
              "<style>\n",
              "  .colab-df-quickchart {\n",
              "      --bg-color: #E8F0FE;\n",
              "      --fill-color: #1967D2;\n",
              "      --hover-bg-color: #E2EBFA;\n",
              "      --hover-fill-color: #174EA6;\n",
              "      --disabled-fill-color: #AAA;\n",
              "      --disabled-bg-color: #DDD;\n",
              "  }\n",
              "\n",
              "  [theme=dark] .colab-df-quickchart {\n",
              "      --bg-color: #3B4455;\n",
              "      --fill-color: #D2E3FC;\n",
              "      --hover-bg-color: #434B5C;\n",
              "      --hover-fill-color: #FFFFFF;\n",
              "      --disabled-bg-color: #3B4455;\n",
              "      --disabled-fill-color: #666;\n",
              "  }\n",
              "\n",
              "  .colab-df-quickchart {\n",
              "    background-color: var(--bg-color);\n",
              "    border: none;\n",
              "    border-radius: 50%;\n",
              "    cursor: pointer;\n",
              "    display: none;\n",
              "    fill: var(--fill-color);\n",
              "    height: 32px;\n",
              "    padding: 0;\n",
              "    width: 32px;\n",
              "  }\n",
              "\n",
              "  .colab-df-quickchart:hover {\n",
              "    background-color: var(--hover-bg-color);\n",
              "    box-shadow: 0 1px 2px rgba(60, 64, 67, 0.3), 0 1px 3px 1px rgba(60, 64, 67, 0.15);\n",
              "    fill: var(--button-hover-fill-color);\n",
              "  }\n",
              "\n",
              "  .colab-df-quickchart-complete:disabled,\n",
              "  .colab-df-quickchart-complete:disabled:hover {\n",
              "    background-color: var(--disabled-bg-color);\n",
              "    fill: var(--disabled-fill-color);\n",
              "    box-shadow: none;\n",
              "  }\n",
              "\n",
              "  .colab-df-spinner {\n",
              "    border: 2px solid var(--fill-color);\n",
              "    border-color: transparent;\n",
              "    border-bottom-color: var(--fill-color);\n",
              "    animation:\n",
              "      spin 1s steps(1) infinite;\n",
              "  }\n",
              "\n",
              "  @keyframes spin {\n",
              "    0% {\n",
              "      border-color: transparent;\n",
              "      border-bottom-color: var(--fill-color);\n",
              "      border-left-color: var(--fill-color);\n",
              "    }\n",
              "    20% {\n",
              "      border-color: transparent;\n",
              "      border-left-color: var(--fill-color);\n",
              "      border-top-color: var(--fill-color);\n",
              "    }\n",
              "    30% {\n",
              "      border-color: transparent;\n",
              "      border-left-color: var(--fill-color);\n",
              "      border-top-color: var(--fill-color);\n",
              "      border-right-color: var(--fill-color);\n",
              "    }\n",
              "    40% {\n",
              "      border-color: transparent;\n",
              "      border-right-color: var(--fill-color);\n",
              "      border-top-color: var(--fill-color);\n",
              "    }\n",
              "    60% {\n",
              "      border-color: transparent;\n",
              "      border-right-color: var(--fill-color);\n",
              "    }\n",
              "    80% {\n",
              "      border-color: transparent;\n",
              "      border-right-color: var(--fill-color);\n",
              "      border-bottom-color: var(--fill-color);\n",
              "    }\n",
              "    90% {\n",
              "      border-color: transparent;\n",
              "      border-bottom-color: var(--fill-color);\n",
              "    }\n",
              "  }\n",
              "</style>\n",
              "\n",
              "  <script>\n",
              "    async function quickchart(key) {\n",
              "      const quickchartButtonEl =\n",
              "        document.querySelector('#' + key + ' button');\n",
              "      quickchartButtonEl.disabled = true;  // To prevent multiple clicks.\n",
              "      quickchartButtonEl.classList.add('colab-df-spinner');\n",
              "      try {\n",
              "        const charts = await google.colab.kernel.invokeFunction(\n",
              "            'suggestCharts', [key], {});\n",
              "      } catch (error) {\n",
              "        console.error('Error during call to suggestCharts:', error);\n",
              "      }\n",
              "      quickchartButtonEl.classList.remove('colab-df-spinner');\n",
              "      quickchartButtonEl.classList.add('colab-df-quickchart-complete');\n",
              "    }\n",
              "    (() => {\n",
              "      let quickchartButtonEl =\n",
              "        document.querySelector('#df-01b769c3-1ebc-4e0c-9b2a-84d25437d366 button');\n",
              "      quickchartButtonEl.style.display =\n",
              "        google.colab.kernel.accessAllowed ? 'block' : 'none';\n",
              "    })();\n",
              "  </script>\n",
              "</div>\n",
              "    </div>\n",
              "  </div>\n"
            ]
          },
          "metadata": {},
          "execution_count": 34
        }
      ]
    },
    {
      "cell_type": "code",
      "source": [
        "# Normalización usando libreria\n",
        "from sklearn.preprocessing import MinMaxScaler\n",
        "scaler = MinMaxScaler()\n",
        "X_normalizado = scaler.fit_transform(X)\n",
        "X_normalizado = pd.DataFrame(X_normalizado, columns = X.columns)\n",
        "X_normalizado.head()"
      ],
      "metadata": {
        "id": "p4N2Jico1Uqc",
        "colab": {
          "base_uri": "https://localhost:8080/",
          "height": 256
        },
        "outputId": "bd0910ce-bbc9-435e-800b-dba1a639eb0a"
      },
      "execution_count": 33,
      "outputs": [
        {
          "output_type": "execute_result",
          "data": {
            "text/plain": [
              "   Renta_Anual  CtNinos  CtAdolescentes  Recencia  GastoVinos  GastoFrutas  \\\n",
              "0     0.084832      0.0             0.0  0.585859    0.425318     0.442211   \n",
              "1     0.067095      0.5             0.5  0.383838    0.007368     0.005025   \n",
              "2     0.105097      0.0             0.0  0.262626    0.285332     0.246231   \n",
              "3     0.037471      0.5             0.0  0.262626    0.007368     0.020101   \n",
              "4     0.085065      0.5             0.0  0.949495    0.115874     0.216080   \n",
              "\n",
              "   GastoCarnes  GastoPescado  GastoGolosinas  GastoOro  ...  \\\n",
              "0     0.316522      0.664093        0.335878  0.274143  ...   \n",
              "1     0.003478      0.007722        0.003817  0.018692  ...   \n",
              "2     0.073623      0.428571        0.080153  0.130841  ...   \n",
              "3     0.011594      0.038610        0.011450  0.015576  ...   \n",
              "4     0.068406      0.177606        0.103053  0.046729  ...   \n",
              "\n",
              "   NumComprasCatalogo  NumComprasTienda  NumVisitasOnlineMes  AceptaCmp3  \\\n",
              "0            0.357143          0.307692                 0.35         0.0   \n",
              "1            0.035714          0.153846                 0.25         0.0   \n",
              "2            0.071429          0.769231                 0.20         0.0   \n",
              "3            0.000000          0.307692                 0.30         0.0   \n",
              "4            0.107143          0.461538                 0.25         0.0   \n",
              "\n",
              "   AceptaCmp4  AceptaCmp5  AceptaCmp1  AceptaCmp2  AceptaCmpActual      Edad  \n",
              "0         0.0         0.0         0.0         0.0              1.0  0.378641  \n",
              "1         0.0         0.0         0.0         0.0              0.0  0.407767  \n",
              "2         0.0         0.0         0.0         0.0              0.0  0.300971  \n",
              "3         0.0         0.0         0.0         0.0              0.0  0.116505  \n",
              "4         0.0         0.0         0.0         0.0              0.0  0.145631  \n",
              "\n",
              "[5 rows x 22 columns]"
            ],
            "text/html": [
              "\n",
              "  <div id=\"df-77dfc989-2c03-49d3-9ba0-7faca4bde74d\" class=\"colab-df-container\">\n",
              "    <div>\n",
              "<style scoped>\n",
              "    .dataframe tbody tr th:only-of-type {\n",
              "        vertical-align: middle;\n",
              "    }\n",
              "\n",
              "    .dataframe tbody tr th {\n",
              "        vertical-align: top;\n",
              "    }\n",
              "\n",
              "    .dataframe thead th {\n",
              "        text-align: right;\n",
              "    }\n",
              "</style>\n",
              "<table border=\"1\" class=\"dataframe\">\n",
              "  <thead>\n",
              "    <tr style=\"text-align: right;\">\n",
              "      <th></th>\n",
              "      <th>Renta_Anual</th>\n",
              "      <th>CtNinos</th>\n",
              "      <th>CtAdolescentes</th>\n",
              "      <th>Recencia</th>\n",
              "      <th>GastoVinos</th>\n",
              "      <th>GastoFrutas</th>\n",
              "      <th>GastoCarnes</th>\n",
              "      <th>GastoPescado</th>\n",
              "      <th>GastoGolosinas</th>\n",
              "      <th>GastoOro</th>\n",
              "      <th>...</th>\n",
              "      <th>NumComprasCatalogo</th>\n",
              "      <th>NumComprasTienda</th>\n",
              "      <th>NumVisitasOnlineMes</th>\n",
              "      <th>AceptaCmp3</th>\n",
              "      <th>AceptaCmp4</th>\n",
              "      <th>AceptaCmp5</th>\n",
              "      <th>AceptaCmp1</th>\n",
              "      <th>AceptaCmp2</th>\n",
              "      <th>AceptaCmpActual</th>\n",
              "      <th>Edad</th>\n",
              "    </tr>\n",
              "  </thead>\n",
              "  <tbody>\n",
              "    <tr>\n",
              "      <th>0</th>\n",
              "      <td>0.084832</td>\n",
              "      <td>0.0</td>\n",
              "      <td>0.0</td>\n",
              "      <td>0.585859</td>\n",
              "      <td>0.425318</td>\n",
              "      <td>0.442211</td>\n",
              "      <td>0.316522</td>\n",
              "      <td>0.664093</td>\n",
              "      <td>0.335878</td>\n",
              "      <td>0.274143</td>\n",
              "      <td>...</td>\n",
              "      <td>0.357143</td>\n",
              "      <td>0.307692</td>\n",
              "      <td>0.35</td>\n",
              "      <td>0.0</td>\n",
              "      <td>0.0</td>\n",
              "      <td>0.0</td>\n",
              "      <td>0.0</td>\n",
              "      <td>0.0</td>\n",
              "      <td>1.0</td>\n",
              "      <td>0.378641</td>\n",
              "    </tr>\n",
              "    <tr>\n",
              "      <th>1</th>\n",
              "      <td>0.067095</td>\n",
              "      <td>0.5</td>\n",
              "      <td>0.5</td>\n",
              "      <td>0.383838</td>\n",
              "      <td>0.007368</td>\n",
              "      <td>0.005025</td>\n",
              "      <td>0.003478</td>\n",
              "      <td>0.007722</td>\n",
              "      <td>0.003817</td>\n",
              "      <td>0.018692</td>\n",
              "      <td>...</td>\n",
              "      <td>0.035714</td>\n",
              "      <td>0.153846</td>\n",
              "      <td>0.25</td>\n",
              "      <td>0.0</td>\n",
              "      <td>0.0</td>\n",
              "      <td>0.0</td>\n",
              "      <td>0.0</td>\n",
              "      <td>0.0</td>\n",
              "      <td>0.0</td>\n",
              "      <td>0.407767</td>\n",
              "    </tr>\n",
              "    <tr>\n",
              "      <th>2</th>\n",
              "      <td>0.105097</td>\n",
              "      <td>0.0</td>\n",
              "      <td>0.0</td>\n",
              "      <td>0.262626</td>\n",
              "      <td>0.285332</td>\n",
              "      <td>0.246231</td>\n",
              "      <td>0.073623</td>\n",
              "      <td>0.428571</td>\n",
              "      <td>0.080153</td>\n",
              "      <td>0.130841</td>\n",
              "      <td>...</td>\n",
              "      <td>0.071429</td>\n",
              "      <td>0.769231</td>\n",
              "      <td>0.20</td>\n",
              "      <td>0.0</td>\n",
              "      <td>0.0</td>\n",
              "      <td>0.0</td>\n",
              "      <td>0.0</td>\n",
              "      <td>0.0</td>\n",
              "      <td>0.0</td>\n",
              "      <td>0.300971</td>\n",
              "    </tr>\n",
              "    <tr>\n",
              "      <th>3</th>\n",
              "      <td>0.037471</td>\n",
              "      <td>0.5</td>\n",
              "      <td>0.0</td>\n",
              "      <td>0.262626</td>\n",
              "      <td>0.007368</td>\n",
              "      <td>0.020101</td>\n",
              "      <td>0.011594</td>\n",
              "      <td>0.038610</td>\n",
              "      <td>0.011450</td>\n",
              "      <td>0.015576</td>\n",
              "      <td>...</td>\n",
              "      <td>0.000000</td>\n",
              "      <td>0.307692</td>\n",
              "      <td>0.30</td>\n",
              "      <td>0.0</td>\n",
              "      <td>0.0</td>\n",
              "      <td>0.0</td>\n",
              "      <td>0.0</td>\n",
              "      <td>0.0</td>\n",
              "      <td>0.0</td>\n",
              "      <td>0.116505</td>\n",
              "    </tr>\n",
              "    <tr>\n",
              "      <th>4</th>\n",
              "      <td>0.085065</td>\n",
              "      <td>0.5</td>\n",
              "      <td>0.0</td>\n",
              "      <td>0.949495</td>\n",
              "      <td>0.115874</td>\n",
              "      <td>0.216080</td>\n",
              "      <td>0.068406</td>\n",
              "      <td>0.177606</td>\n",
              "      <td>0.103053</td>\n",
              "      <td>0.046729</td>\n",
              "      <td>...</td>\n",
              "      <td>0.107143</td>\n",
              "      <td>0.461538</td>\n",
              "      <td>0.25</td>\n",
              "      <td>0.0</td>\n",
              "      <td>0.0</td>\n",
              "      <td>0.0</td>\n",
              "      <td>0.0</td>\n",
              "      <td>0.0</td>\n",
              "      <td>0.0</td>\n",
              "      <td>0.145631</td>\n",
              "    </tr>\n",
              "  </tbody>\n",
              "</table>\n",
              "<p>5 rows × 22 columns</p>\n",
              "</div>\n",
              "    <div class=\"colab-df-buttons\">\n",
              "\n",
              "  <div class=\"colab-df-container\">\n",
              "    <button class=\"colab-df-convert\" onclick=\"convertToInteractive('df-77dfc989-2c03-49d3-9ba0-7faca4bde74d')\"\n",
              "            title=\"Convert this dataframe to an interactive table.\"\n",
              "            style=\"display:none;\">\n",
              "\n",
              "  <svg xmlns=\"http://www.w3.org/2000/svg\" height=\"24px\" viewBox=\"0 -960 960 960\">\n",
              "    <path d=\"M120-120v-720h720v720H120Zm60-500h600v-160H180v160Zm220 220h160v-160H400v160Zm0 220h160v-160H400v160ZM180-400h160v-160H180v160Zm440 0h160v-160H620v160ZM180-180h160v-160H180v160Zm440 0h160v-160H620v160Z\"/>\n",
              "  </svg>\n",
              "    </button>\n",
              "\n",
              "  <style>\n",
              "    .colab-df-container {\n",
              "      display:flex;\n",
              "      gap: 12px;\n",
              "    }\n",
              "\n",
              "    .colab-df-convert {\n",
              "      background-color: #E8F0FE;\n",
              "      border: none;\n",
              "      border-radius: 50%;\n",
              "      cursor: pointer;\n",
              "      display: none;\n",
              "      fill: #1967D2;\n",
              "      height: 32px;\n",
              "      padding: 0 0 0 0;\n",
              "      width: 32px;\n",
              "    }\n",
              "\n",
              "    .colab-df-convert:hover {\n",
              "      background-color: #E2EBFA;\n",
              "      box-shadow: 0px 1px 2px rgba(60, 64, 67, 0.3), 0px 1px 3px 1px rgba(60, 64, 67, 0.15);\n",
              "      fill: #174EA6;\n",
              "    }\n",
              "\n",
              "    .colab-df-buttons div {\n",
              "      margin-bottom: 4px;\n",
              "    }\n",
              "\n",
              "    [theme=dark] .colab-df-convert {\n",
              "      background-color: #3B4455;\n",
              "      fill: #D2E3FC;\n",
              "    }\n",
              "\n",
              "    [theme=dark] .colab-df-convert:hover {\n",
              "      background-color: #434B5C;\n",
              "      box-shadow: 0px 1px 3px 1px rgba(0, 0, 0, 0.15);\n",
              "      filter: drop-shadow(0px 1px 2px rgba(0, 0, 0, 0.3));\n",
              "      fill: #FFFFFF;\n",
              "    }\n",
              "  </style>\n",
              "\n",
              "    <script>\n",
              "      const buttonEl =\n",
              "        document.querySelector('#df-77dfc989-2c03-49d3-9ba0-7faca4bde74d button.colab-df-convert');\n",
              "      buttonEl.style.display =\n",
              "        google.colab.kernel.accessAllowed ? 'block' : 'none';\n",
              "\n",
              "      async function convertToInteractive(key) {\n",
              "        const element = document.querySelector('#df-77dfc989-2c03-49d3-9ba0-7faca4bde74d');\n",
              "        const dataTable =\n",
              "          await google.colab.kernel.invokeFunction('convertToInteractive',\n",
              "                                                    [key], {});\n",
              "        if (!dataTable) return;\n",
              "\n",
              "        const docLinkHtml = 'Like what you see? Visit the ' +\n",
              "          '<a target=\"_blank\" href=https://colab.research.google.com/notebooks/data_table.ipynb>data table notebook</a>'\n",
              "          + ' to learn more about interactive tables.';\n",
              "        element.innerHTML = '';\n",
              "        dataTable['output_type'] = 'display_data';\n",
              "        await google.colab.output.renderOutput(dataTable, element);\n",
              "        const docLink = document.createElement('div');\n",
              "        docLink.innerHTML = docLinkHtml;\n",
              "        element.appendChild(docLink);\n",
              "      }\n",
              "    </script>\n",
              "  </div>\n",
              "\n",
              "\n",
              "<div id=\"df-5038f49e-00d8-48df-983c-8a4b342b9c12\">\n",
              "  <button class=\"colab-df-quickchart\" onclick=\"quickchart('df-5038f49e-00d8-48df-983c-8a4b342b9c12')\"\n",
              "            title=\"Suggest charts\"\n",
              "            style=\"display:none;\">\n",
              "\n",
              "<svg xmlns=\"http://www.w3.org/2000/svg\" height=\"24px\"viewBox=\"0 0 24 24\"\n",
              "     width=\"24px\">\n",
              "    <g>\n",
              "        <path d=\"M19 3H5c-1.1 0-2 .9-2 2v14c0 1.1.9 2 2 2h14c1.1 0 2-.9 2-2V5c0-1.1-.9-2-2-2zM9 17H7v-7h2v7zm4 0h-2V7h2v10zm4 0h-2v-4h2v4z\"/>\n",
              "    </g>\n",
              "</svg>\n",
              "  </button>\n",
              "\n",
              "<style>\n",
              "  .colab-df-quickchart {\n",
              "      --bg-color: #E8F0FE;\n",
              "      --fill-color: #1967D2;\n",
              "      --hover-bg-color: #E2EBFA;\n",
              "      --hover-fill-color: #174EA6;\n",
              "      --disabled-fill-color: #AAA;\n",
              "      --disabled-bg-color: #DDD;\n",
              "  }\n",
              "\n",
              "  [theme=dark] .colab-df-quickchart {\n",
              "      --bg-color: #3B4455;\n",
              "      --fill-color: #D2E3FC;\n",
              "      --hover-bg-color: #434B5C;\n",
              "      --hover-fill-color: #FFFFFF;\n",
              "      --disabled-bg-color: #3B4455;\n",
              "      --disabled-fill-color: #666;\n",
              "  }\n",
              "\n",
              "  .colab-df-quickchart {\n",
              "    background-color: var(--bg-color);\n",
              "    border: none;\n",
              "    border-radius: 50%;\n",
              "    cursor: pointer;\n",
              "    display: none;\n",
              "    fill: var(--fill-color);\n",
              "    height: 32px;\n",
              "    padding: 0;\n",
              "    width: 32px;\n",
              "  }\n",
              "\n",
              "  .colab-df-quickchart:hover {\n",
              "    background-color: var(--hover-bg-color);\n",
              "    box-shadow: 0 1px 2px rgba(60, 64, 67, 0.3), 0 1px 3px 1px rgba(60, 64, 67, 0.15);\n",
              "    fill: var(--button-hover-fill-color);\n",
              "  }\n",
              "\n",
              "  .colab-df-quickchart-complete:disabled,\n",
              "  .colab-df-quickchart-complete:disabled:hover {\n",
              "    background-color: var(--disabled-bg-color);\n",
              "    fill: var(--disabled-fill-color);\n",
              "    box-shadow: none;\n",
              "  }\n",
              "\n",
              "  .colab-df-spinner {\n",
              "    border: 2px solid var(--fill-color);\n",
              "    border-color: transparent;\n",
              "    border-bottom-color: var(--fill-color);\n",
              "    animation:\n",
              "      spin 1s steps(1) infinite;\n",
              "  }\n",
              "\n",
              "  @keyframes spin {\n",
              "    0% {\n",
              "      border-color: transparent;\n",
              "      border-bottom-color: var(--fill-color);\n",
              "      border-left-color: var(--fill-color);\n",
              "    }\n",
              "    20% {\n",
              "      border-color: transparent;\n",
              "      border-left-color: var(--fill-color);\n",
              "      border-top-color: var(--fill-color);\n",
              "    }\n",
              "    30% {\n",
              "      border-color: transparent;\n",
              "      border-left-color: var(--fill-color);\n",
              "      border-top-color: var(--fill-color);\n",
              "      border-right-color: var(--fill-color);\n",
              "    }\n",
              "    40% {\n",
              "      border-color: transparent;\n",
              "      border-right-color: var(--fill-color);\n",
              "      border-top-color: var(--fill-color);\n",
              "    }\n",
              "    60% {\n",
              "      border-color: transparent;\n",
              "      border-right-color: var(--fill-color);\n",
              "    }\n",
              "    80% {\n",
              "      border-color: transparent;\n",
              "      border-right-color: var(--fill-color);\n",
              "      border-bottom-color: var(--fill-color);\n",
              "    }\n",
              "    90% {\n",
              "      border-color: transparent;\n",
              "      border-bottom-color: var(--fill-color);\n",
              "    }\n",
              "  }\n",
              "</style>\n",
              "\n",
              "  <script>\n",
              "    async function quickchart(key) {\n",
              "      const quickchartButtonEl =\n",
              "        document.querySelector('#' + key + ' button');\n",
              "      quickchartButtonEl.disabled = true;  // To prevent multiple clicks.\n",
              "      quickchartButtonEl.classList.add('colab-df-spinner');\n",
              "      try {\n",
              "        const charts = await google.colab.kernel.invokeFunction(\n",
              "            'suggestCharts', [key], {});\n",
              "      } catch (error) {\n",
              "        console.error('Error during call to suggestCharts:', error);\n",
              "      }\n",
              "      quickchartButtonEl.classList.remove('colab-df-spinner');\n",
              "      quickchartButtonEl.classList.add('colab-df-quickchart-complete');\n",
              "    }\n",
              "    (() => {\n",
              "      let quickchartButtonEl =\n",
              "        document.querySelector('#df-5038f49e-00d8-48df-983c-8a4b342b9c12 button');\n",
              "      quickchartButtonEl.style.display =\n",
              "        google.colab.kernel.accessAllowed ? 'block' : 'none';\n",
              "    })();\n",
              "  </script>\n",
              "</div>\n",
              "    </div>\n",
              "  </div>\n"
            ]
          },
          "metadata": {},
          "execution_count": 33
        }
      ]
    },
    {
      "cell_type": "markdown",
      "source": [
        "**Otros métodos para reescalar los datos:**"
      ],
      "metadata": {
        "id": "veQNkQxVrM33"
      }
    },
    {
      "cell_type": "markdown",
      "source": [
        "Existen diversos métodos posibles para reescalar los datos ya implementados en la biblioteca Scikit-learn, como por ejemplo el método StandardScaler().\n",
        "\n",
        "Este método escala nuestros datos, sustrayendo el promedio de cada uno de los atributos y dividiendo entre el desvío típico, siguiendo la siguiente fórmula:\n",
        "\n",
        "$$X_{std} = {X - mean \\over sd}$$\n"
      ],
      "metadata": {
        "id": "OOo1q8zPrQT6"
      }
    },
    {
      "cell_type": "code",
      "source": [
        "from sklearn.preprocessing import StandardScaler\n",
        "\n",
        "standard_scaler = StandardScaler()\n",
        "X_std = standard_scaler.fit_transform(X)\n",
        "X_std = pd.DataFrame(X_std, columns = X.columns)\n",
        "X_std.head()"
      ],
      "metadata": {
        "colab": {
          "base_uri": "https://localhost:8080/",
          "height": 256
        },
        "id": "Lpm10koNreLK",
        "outputId": "7ddb14f0-1519-49c2-9e4a-bec85295d983"
      },
      "execution_count": 39,
      "outputs": [
        {
          "output_type": "execute_result",
          "data": {
            "text/plain": [
              "   Renta_Anual   CtNinos  CtAdolescentes  Recencia  GastoVinos  GastoFrutas  \\\n",
              "0     0.234063 -0.823039       -0.928972  0.310532    0.978226     1.549429   \n",
              "1    -0.234559  1.039938        0.909066 -0.380509   -0.872024    -0.637328   \n",
              "2     0.769478 -0.823039       -0.928972 -0.795134    0.358511     0.569159   \n",
              "3    -1.017239  1.039938       -0.928972 -0.795134   -0.872024    -0.561922   \n",
              "4     0.240221  1.039938       -0.928972  1.554407   -0.391671     0.418348   \n",
              "\n",
              "   GastoCarnes  GastoPescado  GastoGolosinas  GastoOro  ...  \\\n",
              "0     1.690227      2.454568        1.484827  0.850031  ...   \n",
              "1    -0.717986     -0.651038       -0.633880 -0.732867  ...   \n",
              "2    -0.178368      1.340203       -0.146821 -0.037937  ...   \n",
              "3    -0.655551     -0.504892       -0.585174 -0.752171  ...   \n",
              "4    -0.218505      0.152766       -0.000703 -0.559135  ...   \n",
              "\n",
              "   NumComprasCatalogo  NumComprasTienda  NumVisitasOnlineMes  AceptaCmp3  \\\n",
              "0            2.504712         -0.554143             0.693232   -0.281773   \n",
              "1           -0.571082         -1.169518            -0.131574   -0.281773   \n",
              "2           -0.229327          1.291982            -0.543978   -0.281773   \n",
              "3           -0.912837         -0.554143             0.280829   -0.281773   \n",
              "4            0.112428          0.061232            -0.131574   -0.281773   \n",
              "\n",
              "   AceptaCmp4  AceptaCmp5  AceptaCmp1  AceptaCmp2  AceptaCmpActual      Edad  \n",
              "0   -0.282705   -0.280839   -0.261661   -0.117148         2.377952  0.986443  \n",
              "1   -0.282705   -0.280839   -0.261661   -0.117148        -0.420530  1.236801  \n",
              "2   -0.282705   -0.280839   -0.261661   -0.117148        -0.420530  0.318822  \n",
              "3   -0.282705   -0.280839   -0.261661   -0.117148        -0.420530 -1.266777  \n",
              "4   -0.282705   -0.280839   -0.261661   -0.117148        -0.420530 -1.016420  \n",
              "\n",
              "[5 rows x 22 columns]"
            ],
            "text/html": [
              "\n",
              "  <div id=\"df-ce140378-ced4-4fe5-acb1-8f48367a25a0\" class=\"colab-df-container\">\n",
              "    <div>\n",
              "<style scoped>\n",
              "    .dataframe tbody tr th:only-of-type {\n",
              "        vertical-align: middle;\n",
              "    }\n",
              "\n",
              "    .dataframe tbody tr th {\n",
              "        vertical-align: top;\n",
              "    }\n",
              "\n",
              "    .dataframe thead th {\n",
              "        text-align: right;\n",
              "    }\n",
              "</style>\n",
              "<table border=\"1\" class=\"dataframe\">\n",
              "  <thead>\n",
              "    <tr style=\"text-align: right;\">\n",
              "      <th></th>\n",
              "      <th>Renta_Anual</th>\n",
              "      <th>CtNinos</th>\n",
              "      <th>CtAdolescentes</th>\n",
              "      <th>Recencia</th>\n",
              "      <th>GastoVinos</th>\n",
              "      <th>GastoFrutas</th>\n",
              "      <th>GastoCarnes</th>\n",
              "      <th>GastoPescado</th>\n",
              "      <th>GastoGolosinas</th>\n",
              "      <th>GastoOro</th>\n",
              "      <th>...</th>\n",
              "      <th>NumComprasCatalogo</th>\n",
              "      <th>NumComprasTienda</th>\n",
              "      <th>NumVisitasOnlineMes</th>\n",
              "      <th>AceptaCmp3</th>\n",
              "      <th>AceptaCmp4</th>\n",
              "      <th>AceptaCmp5</th>\n",
              "      <th>AceptaCmp1</th>\n",
              "      <th>AceptaCmp2</th>\n",
              "      <th>AceptaCmpActual</th>\n",
              "      <th>Edad</th>\n",
              "    </tr>\n",
              "  </thead>\n",
              "  <tbody>\n",
              "    <tr>\n",
              "      <th>0</th>\n",
              "      <td>0.234063</td>\n",
              "      <td>-0.823039</td>\n",
              "      <td>-0.928972</td>\n",
              "      <td>0.310532</td>\n",
              "      <td>0.978226</td>\n",
              "      <td>1.549429</td>\n",
              "      <td>1.690227</td>\n",
              "      <td>2.454568</td>\n",
              "      <td>1.484827</td>\n",
              "      <td>0.850031</td>\n",
              "      <td>...</td>\n",
              "      <td>2.504712</td>\n",
              "      <td>-0.554143</td>\n",
              "      <td>0.693232</td>\n",
              "      <td>-0.281773</td>\n",
              "      <td>-0.282705</td>\n",
              "      <td>-0.280839</td>\n",
              "      <td>-0.261661</td>\n",
              "      <td>-0.117148</td>\n",
              "      <td>2.377952</td>\n",
              "      <td>0.986443</td>\n",
              "    </tr>\n",
              "    <tr>\n",
              "      <th>1</th>\n",
              "      <td>-0.234559</td>\n",
              "      <td>1.039938</td>\n",
              "      <td>0.909066</td>\n",
              "      <td>-0.380509</td>\n",
              "      <td>-0.872024</td>\n",
              "      <td>-0.637328</td>\n",
              "      <td>-0.717986</td>\n",
              "      <td>-0.651038</td>\n",
              "      <td>-0.633880</td>\n",
              "      <td>-0.732867</td>\n",
              "      <td>...</td>\n",
              "      <td>-0.571082</td>\n",
              "      <td>-1.169518</td>\n",
              "      <td>-0.131574</td>\n",
              "      <td>-0.281773</td>\n",
              "      <td>-0.282705</td>\n",
              "      <td>-0.280839</td>\n",
              "      <td>-0.261661</td>\n",
              "      <td>-0.117148</td>\n",
              "      <td>-0.420530</td>\n",
              "      <td>1.236801</td>\n",
              "    </tr>\n",
              "    <tr>\n",
              "      <th>2</th>\n",
              "      <td>0.769478</td>\n",
              "      <td>-0.823039</td>\n",
              "      <td>-0.928972</td>\n",
              "      <td>-0.795134</td>\n",
              "      <td>0.358511</td>\n",
              "      <td>0.569159</td>\n",
              "      <td>-0.178368</td>\n",
              "      <td>1.340203</td>\n",
              "      <td>-0.146821</td>\n",
              "      <td>-0.037937</td>\n",
              "      <td>...</td>\n",
              "      <td>-0.229327</td>\n",
              "      <td>1.291982</td>\n",
              "      <td>-0.543978</td>\n",
              "      <td>-0.281773</td>\n",
              "      <td>-0.282705</td>\n",
              "      <td>-0.280839</td>\n",
              "      <td>-0.261661</td>\n",
              "      <td>-0.117148</td>\n",
              "      <td>-0.420530</td>\n",
              "      <td>0.318822</td>\n",
              "    </tr>\n",
              "    <tr>\n",
              "      <th>3</th>\n",
              "      <td>-1.017239</td>\n",
              "      <td>1.039938</td>\n",
              "      <td>-0.928972</td>\n",
              "      <td>-0.795134</td>\n",
              "      <td>-0.872024</td>\n",
              "      <td>-0.561922</td>\n",
              "      <td>-0.655551</td>\n",
              "      <td>-0.504892</td>\n",
              "      <td>-0.585174</td>\n",
              "      <td>-0.752171</td>\n",
              "      <td>...</td>\n",
              "      <td>-0.912837</td>\n",
              "      <td>-0.554143</td>\n",
              "      <td>0.280829</td>\n",
              "      <td>-0.281773</td>\n",
              "      <td>-0.282705</td>\n",
              "      <td>-0.280839</td>\n",
              "      <td>-0.261661</td>\n",
              "      <td>-0.117148</td>\n",
              "      <td>-0.420530</td>\n",
              "      <td>-1.266777</td>\n",
              "    </tr>\n",
              "    <tr>\n",
              "      <th>4</th>\n",
              "      <td>0.240221</td>\n",
              "      <td>1.039938</td>\n",
              "      <td>-0.928972</td>\n",
              "      <td>1.554407</td>\n",
              "      <td>-0.391671</td>\n",
              "      <td>0.418348</td>\n",
              "      <td>-0.218505</td>\n",
              "      <td>0.152766</td>\n",
              "      <td>-0.000703</td>\n",
              "      <td>-0.559135</td>\n",
              "      <td>...</td>\n",
              "      <td>0.112428</td>\n",
              "      <td>0.061232</td>\n",
              "      <td>-0.131574</td>\n",
              "      <td>-0.281773</td>\n",
              "      <td>-0.282705</td>\n",
              "      <td>-0.280839</td>\n",
              "      <td>-0.261661</td>\n",
              "      <td>-0.117148</td>\n",
              "      <td>-0.420530</td>\n",
              "      <td>-1.016420</td>\n",
              "    </tr>\n",
              "  </tbody>\n",
              "</table>\n",
              "<p>5 rows × 22 columns</p>\n",
              "</div>\n",
              "    <div class=\"colab-df-buttons\">\n",
              "\n",
              "  <div class=\"colab-df-container\">\n",
              "    <button class=\"colab-df-convert\" onclick=\"convertToInteractive('df-ce140378-ced4-4fe5-acb1-8f48367a25a0')\"\n",
              "            title=\"Convert this dataframe to an interactive table.\"\n",
              "            style=\"display:none;\">\n",
              "\n",
              "  <svg xmlns=\"http://www.w3.org/2000/svg\" height=\"24px\" viewBox=\"0 -960 960 960\">\n",
              "    <path d=\"M120-120v-720h720v720H120Zm60-500h600v-160H180v160Zm220 220h160v-160H400v160Zm0 220h160v-160H400v160ZM180-400h160v-160H180v160Zm440 0h160v-160H620v160ZM180-180h160v-160H180v160Zm440 0h160v-160H620v160Z\"/>\n",
              "  </svg>\n",
              "    </button>\n",
              "\n",
              "  <style>\n",
              "    .colab-df-container {\n",
              "      display:flex;\n",
              "      gap: 12px;\n",
              "    }\n",
              "\n",
              "    .colab-df-convert {\n",
              "      background-color: #E8F0FE;\n",
              "      border: none;\n",
              "      border-radius: 50%;\n",
              "      cursor: pointer;\n",
              "      display: none;\n",
              "      fill: #1967D2;\n",
              "      height: 32px;\n",
              "      padding: 0 0 0 0;\n",
              "      width: 32px;\n",
              "    }\n",
              "\n",
              "    .colab-df-convert:hover {\n",
              "      background-color: #E2EBFA;\n",
              "      box-shadow: 0px 1px 2px rgba(60, 64, 67, 0.3), 0px 1px 3px 1px rgba(60, 64, 67, 0.15);\n",
              "      fill: #174EA6;\n",
              "    }\n",
              "\n",
              "    .colab-df-buttons div {\n",
              "      margin-bottom: 4px;\n",
              "    }\n",
              "\n",
              "    [theme=dark] .colab-df-convert {\n",
              "      background-color: #3B4455;\n",
              "      fill: #D2E3FC;\n",
              "    }\n",
              "\n",
              "    [theme=dark] .colab-df-convert:hover {\n",
              "      background-color: #434B5C;\n",
              "      box-shadow: 0px 1px 3px 1px rgba(0, 0, 0, 0.15);\n",
              "      filter: drop-shadow(0px 1px 2px rgba(0, 0, 0, 0.3));\n",
              "      fill: #FFFFFF;\n",
              "    }\n",
              "  </style>\n",
              "\n",
              "    <script>\n",
              "      const buttonEl =\n",
              "        document.querySelector('#df-ce140378-ced4-4fe5-acb1-8f48367a25a0 button.colab-df-convert');\n",
              "      buttonEl.style.display =\n",
              "        google.colab.kernel.accessAllowed ? 'block' : 'none';\n",
              "\n",
              "      async function convertToInteractive(key) {\n",
              "        const element = document.querySelector('#df-ce140378-ced4-4fe5-acb1-8f48367a25a0');\n",
              "        const dataTable =\n",
              "          await google.colab.kernel.invokeFunction('convertToInteractive',\n",
              "                                                    [key], {});\n",
              "        if (!dataTable) return;\n",
              "\n",
              "        const docLinkHtml = 'Like what you see? Visit the ' +\n",
              "          '<a target=\"_blank\" href=https://colab.research.google.com/notebooks/data_table.ipynb>data table notebook</a>'\n",
              "          + ' to learn more about interactive tables.';\n",
              "        element.innerHTML = '';\n",
              "        dataTable['output_type'] = 'display_data';\n",
              "        await google.colab.output.renderOutput(dataTable, element);\n",
              "        const docLink = document.createElement('div');\n",
              "        docLink.innerHTML = docLinkHtml;\n",
              "        element.appendChild(docLink);\n",
              "      }\n",
              "    </script>\n",
              "  </div>\n",
              "\n",
              "\n",
              "<div id=\"df-e8cf26f7-7037-40b5-a346-9bdddb618afc\">\n",
              "  <button class=\"colab-df-quickchart\" onclick=\"quickchart('df-e8cf26f7-7037-40b5-a346-9bdddb618afc')\"\n",
              "            title=\"Suggest charts\"\n",
              "            style=\"display:none;\">\n",
              "\n",
              "<svg xmlns=\"http://www.w3.org/2000/svg\" height=\"24px\"viewBox=\"0 0 24 24\"\n",
              "     width=\"24px\">\n",
              "    <g>\n",
              "        <path d=\"M19 3H5c-1.1 0-2 .9-2 2v14c0 1.1.9 2 2 2h14c1.1 0 2-.9 2-2V5c0-1.1-.9-2-2-2zM9 17H7v-7h2v7zm4 0h-2V7h2v10zm4 0h-2v-4h2v4z\"/>\n",
              "    </g>\n",
              "</svg>\n",
              "  </button>\n",
              "\n",
              "<style>\n",
              "  .colab-df-quickchart {\n",
              "      --bg-color: #E8F0FE;\n",
              "      --fill-color: #1967D2;\n",
              "      --hover-bg-color: #E2EBFA;\n",
              "      --hover-fill-color: #174EA6;\n",
              "      --disabled-fill-color: #AAA;\n",
              "      --disabled-bg-color: #DDD;\n",
              "  }\n",
              "\n",
              "  [theme=dark] .colab-df-quickchart {\n",
              "      --bg-color: #3B4455;\n",
              "      --fill-color: #D2E3FC;\n",
              "      --hover-bg-color: #434B5C;\n",
              "      --hover-fill-color: #FFFFFF;\n",
              "      --disabled-bg-color: #3B4455;\n",
              "      --disabled-fill-color: #666;\n",
              "  }\n",
              "\n",
              "  .colab-df-quickchart {\n",
              "    background-color: var(--bg-color);\n",
              "    border: none;\n",
              "    border-radius: 50%;\n",
              "    cursor: pointer;\n",
              "    display: none;\n",
              "    fill: var(--fill-color);\n",
              "    height: 32px;\n",
              "    padding: 0;\n",
              "    width: 32px;\n",
              "  }\n",
              "\n",
              "  .colab-df-quickchart:hover {\n",
              "    background-color: var(--hover-bg-color);\n",
              "    box-shadow: 0 1px 2px rgba(60, 64, 67, 0.3), 0 1px 3px 1px rgba(60, 64, 67, 0.15);\n",
              "    fill: var(--button-hover-fill-color);\n",
              "  }\n",
              "\n",
              "  .colab-df-quickchart-complete:disabled,\n",
              "  .colab-df-quickchart-complete:disabled:hover {\n",
              "    background-color: var(--disabled-bg-color);\n",
              "    fill: var(--disabled-fill-color);\n",
              "    box-shadow: none;\n",
              "  }\n",
              "\n",
              "  .colab-df-spinner {\n",
              "    border: 2px solid var(--fill-color);\n",
              "    border-color: transparent;\n",
              "    border-bottom-color: var(--fill-color);\n",
              "    animation:\n",
              "      spin 1s steps(1) infinite;\n",
              "  }\n",
              "\n",
              "  @keyframes spin {\n",
              "    0% {\n",
              "      border-color: transparent;\n",
              "      border-bottom-color: var(--fill-color);\n",
              "      border-left-color: var(--fill-color);\n",
              "    }\n",
              "    20% {\n",
              "      border-color: transparent;\n",
              "      border-left-color: var(--fill-color);\n",
              "      border-top-color: var(--fill-color);\n",
              "    }\n",
              "    30% {\n",
              "      border-color: transparent;\n",
              "      border-left-color: var(--fill-color);\n",
              "      border-top-color: var(--fill-color);\n",
              "      border-right-color: var(--fill-color);\n",
              "    }\n",
              "    40% {\n",
              "      border-color: transparent;\n",
              "      border-right-color: var(--fill-color);\n",
              "      border-top-color: var(--fill-color);\n",
              "    }\n",
              "    60% {\n",
              "      border-color: transparent;\n",
              "      border-right-color: var(--fill-color);\n",
              "    }\n",
              "    80% {\n",
              "      border-color: transparent;\n",
              "      border-right-color: var(--fill-color);\n",
              "      border-bottom-color: var(--fill-color);\n",
              "    }\n",
              "    90% {\n",
              "      border-color: transparent;\n",
              "      border-bottom-color: var(--fill-color);\n",
              "    }\n",
              "  }\n",
              "</style>\n",
              "\n",
              "  <script>\n",
              "    async function quickchart(key) {\n",
              "      const quickchartButtonEl =\n",
              "        document.querySelector('#' + key + ' button');\n",
              "      quickchartButtonEl.disabled = true;  // To prevent multiple clicks.\n",
              "      quickchartButtonEl.classList.add('colab-df-spinner');\n",
              "      try {\n",
              "        const charts = await google.colab.kernel.invokeFunction(\n",
              "            'suggestCharts', [key], {});\n",
              "      } catch (error) {\n",
              "        console.error('Error during call to suggestCharts:', error);\n",
              "      }\n",
              "      quickchartButtonEl.classList.remove('colab-df-spinner');\n",
              "      quickchartButtonEl.classList.add('colab-df-quickchart-complete');\n",
              "    }\n",
              "    (() => {\n",
              "      let quickchartButtonEl =\n",
              "        document.querySelector('#df-e8cf26f7-7037-40b5-a346-9bdddb618afc button');\n",
              "      quickchartButtonEl.style.display =\n",
              "        google.colab.kernel.accessAllowed ? 'block' : 'none';\n",
              "    })();\n",
              "  </script>\n",
              "</div>\n",
              "    </div>\n",
              "  </div>\n"
            ]
          },
          "metadata": {},
          "execution_count": 39
        }
      ]
    },
    {
      "cell_type": "markdown",
      "source": [
        "**Lo importante en esta sección:**\n",
        "\n",
        "- Importar los datos;\n",
        "- Visualizar el número de atributos y muestras de nuestros datos;\n",
        "- Visualizar las primeras muestras de los datos;\n",
        "- Extraer parámetros estadísticos básicos;\n",
        "- Generar una matriz de correlación para verificar la relación entre los atributos;\n",
        "- Normalizar el conjunto de datos."
      ],
      "metadata": {
        "id": "XDNvS3tMsHOO"
      }
    },
    {
      "cell_type": "markdown",
      "source": [
        "## Aula 2"
      ],
      "metadata": {
        "id": "Y5LpA_rTFYm7"
      }
    },
    {
      "cell_type": "markdown",
      "source": [
        "### 2.2 KMeans"
      ],
      "metadata": {
        "id": "kpFXy8uKxxR_"
      }
    },
    {
      "cell_type": "code",
      "source": [],
      "metadata": {
        "id": "lZzdRnVA0Xd8"
      },
      "execution_count": null,
      "outputs": []
    },
    {
      "cell_type": "code",
      "source": [],
      "metadata": {
        "id": "SjFOE6R40Xgf"
      },
      "execution_count": null,
      "outputs": []
    },
    {
      "cell_type": "markdown",
      "source": [
        "### 2.3 Gráficando los clusters en 2D"
      ],
      "metadata": {
        "id": "fE-e-GMiA3JL"
      }
    },
    {
      "cell_type": "code",
      "source": [],
      "metadata": {
        "id": "d1dqKXcE0ZZG"
      },
      "execution_count": null,
      "outputs": []
    },
    {
      "cell_type": "code",
      "source": [],
      "metadata": {
        "id": "FExy4zme0Zbp"
      },
      "execution_count": null,
      "outputs": []
    },
    {
      "cell_type": "markdown",
      "source": [
        "### 2.4 Gráficando los clusters en 3D"
      ],
      "metadata": {
        "id": "wFW_4VKIBIzl"
      }
    },
    {
      "cell_type": "code",
      "source": [],
      "metadata": {
        "id": "8J6UsS5b0bUF"
      },
      "execution_count": null,
      "outputs": []
    },
    {
      "cell_type": "code",
      "source": [],
      "metadata": {
        "id": "9KRp3o2j0bWm"
      },
      "execution_count": null,
      "outputs": []
    },
    {
      "cell_type": "markdown",
      "source": [
        "### 2.5 Visualizando los centroides"
      ],
      "metadata": {
        "id": "dYkIXczKDtuf"
      }
    },
    {
      "cell_type": "code",
      "source": [],
      "metadata": {
        "id": "nUcgIlxq0de0"
      },
      "execution_count": null,
      "outputs": []
    },
    {
      "cell_type": "code",
      "source": [],
      "metadata": {
        "id": "oVERc-BH0djr"
      },
      "execution_count": null,
      "outputs": []
    },
    {
      "cell_type": "markdown",
      "source": [
        "## Aula 3"
      ],
      "metadata": {
        "id": "YhxEmRXUFbgL"
      }
    },
    {
      "cell_type": "markdown",
      "source": [
        "### 3.2 DBSCAN"
      ],
      "metadata": {
        "id": "I6c5Zhq9V2_S"
      }
    },
    {
      "cell_type": "code",
      "source": [],
      "metadata": {
        "id": "emyLJAlK0B49"
      },
      "execution_count": null,
      "outputs": []
    },
    {
      "cell_type": "code",
      "source": [],
      "metadata": {
        "id": "zEUCoftd0B7c"
      },
      "execution_count": null,
      "outputs": []
    },
    {
      "cell_type": "markdown",
      "source": [
        "### 3.3 Ajuste de hiperparámetros y visualización"
      ],
      "metadata": {
        "id": "XHY-vP80gKHT"
      }
    },
    {
      "cell_type": "code",
      "source": [],
      "metadata": {
        "id": "KAcfb327z_vd"
      },
      "execution_count": null,
      "outputs": []
    },
    {
      "cell_type": "code",
      "source": [],
      "metadata": {
        "id": "paiduubmz_14"
      },
      "execution_count": null,
      "outputs": []
    },
    {
      "cell_type": "markdown",
      "source": [
        "## Aula 4"
      ],
      "metadata": {
        "id": "O6L3k_rCFedk"
      }
    },
    {
      "cell_type": "markdown",
      "source": [
        "### 4.2 Mean Shift"
      ],
      "metadata": {
        "id": "kknoDK07hGID"
      }
    },
    {
      "cell_type": "code",
      "source": [],
      "metadata": {
        "id": "aX7Ozb2rzwwe"
      },
      "execution_count": null,
      "outputs": []
    },
    {
      "cell_type": "code",
      "source": [],
      "metadata": {
        "id": "I7oW1mCxzw1i"
      },
      "execution_count": null,
      "outputs": []
    },
    {
      "cell_type": "markdown",
      "source": [
        "### 4.3 Visualización de clusters"
      ],
      "metadata": {
        "id": "vPNy8gVYnC47"
      }
    },
    {
      "cell_type": "code",
      "source": [],
      "metadata": {
        "id": "UAGf7r94zy3c"
      },
      "execution_count": null,
      "outputs": []
    },
    {
      "cell_type": "code",
      "source": [],
      "metadata": {
        "id": "t01R28Y7zy66"
      },
      "execution_count": null,
      "outputs": []
    },
    {
      "cell_type": "markdown",
      "source": [
        "## Aula 5"
      ],
      "metadata": {
        "id": "mcD0AwlzFg9X"
      }
    },
    {
      "cell_type": "markdown",
      "source": [
        "### 5.1 Métrica para validación"
      ],
      "metadata": {
        "id": "l5uqW0OgDkJz"
      }
    },
    {
      "cell_type": "code",
      "source": [],
      "metadata": {
        "id": "0fmdkw--zdJi"
      },
      "execution_count": null,
      "outputs": []
    },
    {
      "cell_type": "code",
      "source": [],
      "metadata": {
        "id": "RXT_5JETzdMD"
      },
      "execution_count": null,
      "outputs": []
    },
    {
      "cell_type": "markdown",
      "source": [
        "### 5.3 Coeficiente de Silhouette para KMeans"
      ],
      "metadata": {
        "id": "iHsUoDfoEql6"
      }
    },
    {
      "cell_type": "code",
      "source": [],
      "metadata": {
        "id": "EFGVLRkRzYrZ"
      },
      "execution_count": null,
      "outputs": []
    },
    {
      "cell_type": "code",
      "source": [],
      "metadata": {
        "id": "JH8yOwCIzYuC"
      },
      "execution_count": null,
      "outputs": []
    },
    {
      "cell_type": "markdown",
      "source": [
        "### 5.4 Coeficiente de Silhouette para DBSCAN"
      ],
      "metadata": {
        "id": "jwki4C9OlFTB"
      }
    },
    {
      "cell_type": "code",
      "source": [],
      "metadata": {
        "id": "RC72ipdAzVs4"
      },
      "execution_count": null,
      "outputs": []
    },
    {
      "cell_type": "code",
      "source": [],
      "metadata": {
        "id": "iO0ESPBpzV0m"
      },
      "execution_count": null,
      "outputs": []
    },
    {
      "cell_type": "markdown",
      "source": [
        "### 5.5 Coeficiente de Silhouette para Mean Shift"
      ],
      "metadata": {
        "id": "NdHjkLpEbQ_V"
      }
    },
    {
      "cell_type": "code",
      "source": [],
      "metadata": {
        "id": "TeO9DPVszSJc"
      },
      "execution_count": null,
      "outputs": []
    },
    {
      "cell_type": "code",
      "source": [],
      "metadata": {
        "id": "pcn7Ac99zSxf"
      },
      "execution_count": null,
      "outputs": []
    },
    {
      "cell_type": "markdown",
      "source": [
        "### 5.6 Mejores configuraciones para la clusterización"
      ],
      "metadata": {
        "id": "TgCzU9roGHIA"
      }
    },
    {
      "cell_type": "code",
      "source": [],
      "metadata": {
        "id": "-sZ2kFv1zOCE"
      },
      "execution_count": null,
      "outputs": []
    },
    {
      "cell_type": "code",
      "source": [],
      "metadata": {
        "id": "ePdl1e_NzTQh"
      },
      "execution_count": null,
      "outputs": []
    }
  ]
}